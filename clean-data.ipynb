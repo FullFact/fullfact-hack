{
 "cells": [
  {
   "cell_type": "code",
   "execution_count": 67,
   "metadata": {
    "collapsed": false
   },
   "outputs": [],
   "source": [
    "import xml.etree.ElementTree as ET"
   ]
  },
  {
   "cell_type": "code",
   "execution_count": 68,
   "metadata": {
    "collapsed": true
   },
   "outputs": [],
   "source": [
    "from os import listdir\n",
    "path = \"./hansard/src/\"\n",
    "file_paths =  [fp for fp in listdir(path) if fp != '.DS_Store']"
   ]
  },
  {
   "cell_type": "code",
   "execution_count": 69,
   "metadata": {
    "collapsed": false,
    "scrolled": false
   },
   "outputs": [],
   "source": [
    "import csv\n",
    "\n",
    "with open('speeches.csv', 'w') as csvfile:\n",
    "    fieldnames = ['date', 'speaker', 'text']\n",
    "    writer = csv.DictWriter(csvfile, fieldnames=fieldnames)\n",
    "\n",
    "    writer.writeheader()\n",
    "\n",
    "    for f in file_paths:\n",
    "        tree = ET.parse(path+f)\n",
    "        root = tree.getroot()\n",
    "        for child in root:\n",
    "            if child.tag=='speech':\n",
    "                speaker = child.attrib.get('speakername', \"\")\n",
    "                if speaker != \"\":                \n",
    "                    for p_child in child:\n",
    "                        writer.writerow({'date': f, 'speaker': speaker, 'text': p_child.text})"
   ]
  }
 ],
 "metadata": {
  "kernelspec": {
   "display_name": "Python 3",
   "language": "python",
   "name": "python3"
  },
  "language_info": {
   "codemirror_mode": {
    "name": "ipython",
    "version": 3
   },
   "file_extension": ".py",
   "mimetype": "text/x-python",
   "name": "python",
   "nbconvert_exporter": "python",
   "pygments_lexer": "ipython3",
   "version": "3.5.2"
  }
 },
 "nbformat": 4,
 "nbformat_minor": 0
}
