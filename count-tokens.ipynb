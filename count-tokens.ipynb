{
 "cells": [
  {
   "cell_type": "markdown",
   "metadata": {},
   "source": [
    "# Count tokens"
   ]
  },
  {
   "cell_type": "code",
   "execution_count": 77,
   "metadata": {
    "collapsed": true
   },
   "outputs": [],
   "source": [
    "import numpy as np\n",
    "import pandas as pd\n",
    "from sklearn.feature_extraction.text import CountVectorizer, TfidfVectorizer"
   ]
  },
  {
   "cell_type": "code",
   "execution_count": 78,
   "metadata": {
    "collapsed": true
   },
   "outputs": [],
   "source": [
    "def tokenizer(s):\n",
    "    return [xx.strip('()[];-\\'`.,') for xx in s.split(' ') if xx.strip() != '']"
   ]
  },
  {
   "cell_type": "code",
   "execution_count": 79,
   "metadata": {
    "collapsed": true
   },
   "outputs": [],
   "source": [
    "df = pd.read_csv('./speeches.csv')\n",
    "df.dropna(inplace=True)"
   ]
  },
  {
   "cell_type": "code",
   "execution_count": 80,
   "metadata": {
    "collapsed": false
   },
   "outputs": [
    {
     "data": {
      "text/html": [
       "<div>\n",
       "<table border=\"1\" class=\"dataframe\">\n",
       "  <thead>\n",
       "    <tr style=\"text-align: right;\">\n",
       "      <th></th>\n",
       "      <th>date</th>\n",
       "      <th>speaker</th>\n",
       "      <th>text</th>\n",
       "    </tr>\n",
       "  </thead>\n",
       "  <tbody>\n",
       "    <tr>\n",
       "      <th>0</th>\n",
       "      <td>debates2010-01-05a.xml</td>\n",
       "      <td>Philip Hollobone</td>\n",
       "      <td>May I suggest to the Secretary of State that p...</td>\n",
       "    </tr>\n",
       "    <tr>\n",
       "      <th>1</th>\n",
       "      <td>debates2010-01-05a.xml</td>\n",
       "      <td>Philip Hollobone</td>\n",
       "      <td>\"If you commit a crime you will be deported fr...</td>\n",
       "    </tr>\n",
       "    <tr>\n",
       "      <th>2</th>\n",
       "      <td>debates2010-01-05a.xml</td>\n",
       "      <td>Jack Straw</td>\n",
       "      <td>I am happy to seek to provide the hon. Gentlem...</td>\n",
       "    </tr>\n",
       "    <tr>\n",
       "      <th>3</th>\n",
       "      <td>debates2010-01-05a.xml</td>\n",
       "      <td>Jack Straw</td>\n",
       "      <td>What we want to see is prison made effective. ...</td>\n",
       "    </tr>\n",
       "    <tr>\n",
       "      <th>4</th>\n",
       "      <td>debates2010-01-05a.xml</td>\n",
       "      <td>David Miliband</td>\n",
       "      <td>We should certainly have a foreign policy that...</td>\n",
       "    </tr>\n",
       "  </tbody>\n",
       "</table>\n",
       "</div>"
      ],
      "text/plain": [
       "                     date           speaker  \\\n",
       "0  debates2010-01-05a.xml  Philip Hollobone   \n",
       "1  debates2010-01-05a.xml  Philip Hollobone   \n",
       "2  debates2010-01-05a.xml        Jack Straw   \n",
       "3  debates2010-01-05a.xml        Jack Straw   \n",
       "4  debates2010-01-05a.xml    David Miliband   \n",
       "\n",
       "                                                text  \n",
       "0  May I suggest to the Secretary of State that p...  \n",
       "1  \"If you commit a crime you will be deported fr...  \n",
       "2  I am happy to seek to provide the hon. Gentlem...  \n",
       "3  What we want to see is prison made effective. ...  \n",
       "4  We should certainly have a foreign policy that...  "
      ]
     },
     "execution_count": 80,
     "metadata": {},
     "output_type": "execute_result"
    }
   ],
   "source": [
    "df.head()"
   ]
  },
  {
   "cell_type": "code",
   "execution_count": 82,
   "metadata": {
    "collapsed": false
   },
   "outputs": [],
   "source": [
    "df['dateonly'] = df.date.apply(lambda x: x.lstrip('debates').rstrip('ab.xml'))\n",
    "df['month'] = df['dateonly'].apply(lambda x: x[:7])"
   ]
  },
  {
   "cell_type": "code",
   "execution_count": 83,
   "metadata": {
    "collapsed": false
   },
   "outputs": [
    {
     "data": {
      "text/html": [
       "<div>\n",
       "<table border=\"1\" class=\"dataframe\">\n",
       "  <thead>\n",
       "    <tr style=\"text-align: right;\">\n",
       "      <th></th>\n",
       "      <th>date</th>\n",
       "      <th>speaker</th>\n",
       "      <th>text</th>\n",
       "      <th>dateonly</th>\n",
       "      <th>month</th>\n",
       "    </tr>\n",
       "  </thead>\n",
       "  <tbody>\n",
       "    <tr>\n",
       "      <th>0</th>\n",
       "      <td>debates2010-01-05a.xml</td>\n",
       "      <td>Philip Hollobone</td>\n",
       "      <td>May I suggest to the Secretary of State that p...</td>\n",
       "      <td>2010-01-05</td>\n",
       "      <td>2010-01</td>\n",
       "    </tr>\n",
       "    <tr>\n",
       "      <th>1</th>\n",
       "      <td>debates2010-01-05a.xml</td>\n",
       "      <td>Philip Hollobone</td>\n",
       "      <td>\"If you commit a crime you will be deported fr...</td>\n",
       "      <td>2010-01-05</td>\n",
       "      <td>2010-01</td>\n",
       "    </tr>\n",
       "    <tr>\n",
       "      <th>2</th>\n",
       "      <td>debates2010-01-05a.xml</td>\n",
       "      <td>Jack Straw</td>\n",
       "      <td>I am happy to seek to provide the hon. Gentlem...</td>\n",
       "      <td>2010-01-05</td>\n",
       "      <td>2010-01</td>\n",
       "    </tr>\n",
       "    <tr>\n",
       "      <th>3</th>\n",
       "      <td>debates2010-01-05a.xml</td>\n",
       "      <td>Jack Straw</td>\n",
       "      <td>What we want to see is prison made effective. ...</td>\n",
       "      <td>2010-01-05</td>\n",
       "      <td>2010-01</td>\n",
       "    </tr>\n",
       "    <tr>\n",
       "      <th>4</th>\n",
       "      <td>debates2010-01-05a.xml</td>\n",
       "      <td>David Miliband</td>\n",
       "      <td>We should certainly have a foreign policy that...</td>\n",
       "      <td>2010-01-05</td>\n",
       "      <td>2010-01</td>\n",
       "    </tr>\n",
       "  </tbody>\n",
       "</table>\n",
       "</div>"
      ],
      "text/plain": [
       "                     date           speaker  \\\n",
       "0  debates2010-01-05a.xml  Philip Hollobone   \n",
       "1  debates2010-01-05a.xml  Philip Hollobone   \n",
       "2  debates2010-01-05a.xml        Jack Straw   \n",
       "3  debates2010-01-05a.xml        Jack Straw   \n",
       "4  debates2010-01-05a.xml    David Miliband   \n",
       "\n",
       "                                                text    dateonly    month  \n",
       "0  May I suggest to the Secretary of State that p...  2010-01-05  2010-01  \n",
       "1  \"If you commit a crime you will be deported fr...  2010-01-05  2010-01  \n",
       "2  I am happy to seek to provide the hon. Gentlem...  2010-01-05  2010-01  \n",
       "3  What we want to see is prison made effective. ...  2010-01-05  2010-01  \n",
       "4  We should certainly have a foreign policy that...  2010-01-05  2010-01  "
      ]
     },
     "execution_count": 83,
     "metadata": {},
     "output_type": "execute_result"
    }
   ],
   "source": [
    "df.head()"
   ]
  },
  {
   "cell_type": "code",
   "execution_count": 84,
   "metadata": {
    "collapsed": true
   },
   "outputs": [],
   "source": [
    "bymonth = df.groupby('month').agg(lambda x: ' '.join(x))"
   ]
  },
  {
   "cell_type": "code",
   "execution_count": 85,
   "metadata": {
    "collapsed": false
   },
   "outputs": [
    {
     "data": {
      "text/html": [
       "<div>\n",
       "<table border=\"1\" class=\"dataframe\">\n",
       "  <thead>\n",
       "    <tr style=\"text-align: right;\">\n",
       "      <th></th>\n",
       "      <th>date</th>\n",
       "      <th>speaker</th>\n",
       "      <th>text</th>\n",
       "      <th>dateonly</th>\n",
       "    </tr>\n",
       "    <tr>\n",
       "      <th>month</th>\n",
       "      <th></th>\n",
       "      <th></th>\n",
       "      <th></th>\n",
       "      <th></th>\n",
       "    </tr>\n",
       "  </thead>\n",
       "  <tbody>\n",
       "    <tr>\n",
       "      <th>2010-01</th>\n",
       "      <td>debates2010-01-05a.xml debates2010-01-05a.xml ...</td>\n",
       "      <td>Philip Hollobone Philip Hollobone Jack Straw J...</td>\n",
       "      <td>May I suggest to the Secretary of State that p...</td>\n",
       "      <td>2010-01-05 2010-01-05 2010-01-05 2010-01-05 20...</td>\n",
       "    </tr>\n",
       "    <tr>\n",
       "      <th>2010-02</th>\n",
       "      <td>debates2010-02-01a.xml debates2010-02-01a.xml ...</td>\n",
       "      <td>Eric Illsley Yvette Cooper Eric Illsley Yvette...</td>\n",
       "      <td>What steps she is taking to improve telephone ...</td>\n",
       "      <td>2010-02-01 2010-02-01 2010-02-01 2010-02-01 20...</td>\n",
       "    </tr>\n",
       "    <tr>\n",
       "      <th>2010-03</th>\n",
       "      <td>debates2010-03-01a.xml debates2010-03-01a.xml ...</td>\n",
       "      <td>John Grogan Ben Bradshaw Ben Bradshaw John Gro...</td>\n",
       "      <td>When he expects to respond to the David Davies...</td>\n",
       "      <td>2010-03-01 2010-03-01 2010-03-01 2010-03-01 20...</td>\n",
       "    </tr>\n",
       "    <tr>\n",
       "      <th>2010-04</th>\n",
       "      <td>debates2010-04-06a.xml debates2010-04-06a.xml ...</td>\n",
       "      <td>Vera Baird Vera Baird Vera Baird Vera Baird Ve...</td>\n",
       "      <td>With the leave of the House, Mr. Speaker, I sh...</td>\n",
       "      <td>2010-04-06 2010-04-06 2010-04-06 2010-04-06 20...</td>\n",
       "    </tr>\n",
       "    <tr>\n",
       "      <th>2010-05</th>\n",
       "      <td>debates2010-05-18a.xml debates2010-05-18a.xml ...</td>\n",
       "      <td>Malcolm Rifkind Malcolm Rifkind Malcolm Rifkin...</td>\n",
       "      <td>I beg to move, That John Bercow do take the Ch...</td>\n",
       "      <td>2010-05-18 2010-05-18 2010-05-18 2010-05-18 20...</td>\n",
       "    </tr>\n",
       "  </tbody>\n",
       "</table>\n",
       "</div>"
      ],
      "text/plain": [
       "                                                      date  \\\n",
       "month                                                        \n",
       "2010-01  debates2010-01-05a.xml debates2010-01-05a.xml ...   \n",
       "2010-02  debates2010-02-01a.xml debates2010-02-01a.xml ...   \n",
       "2010-03  debates2010-03-01a.xml debates2010-03-01a.xml ...   \n",
       "2010-04  debates2010-04-06a.xml debates2010-04-06a.xml ...   \n",
       "2010-05  debates2010-05-18a.xml debates2010-05-18a.xml ...   \n",
       "\n",
       "                                                   speaker  \\\n",
       "month                                                        \n",
       "2010-01  Philip Hollobone Philip Hollobone Jack Straw J...   \n",
       "2010-02  Eric Illsley Yvette Cooper Eric Illsley Yvette...   \n",
       "2010-03  John Grogan Ben Bradshaw Ben Bradshaw John Gro...   \n",
       "2010-04  Vera Baird Vera Baird Vera Baird Vera Baird Ve...   \n",
       "2010-05  Malcolm Rifkind Malcolm Rifkind Malcolm Rifkin...   \n",
       "\n",
       "                                                      text  \\\n",
       "month                                                        \n",
       "2010-01  May I suggest to the Secretary of State that p...   \n",
       "2010-02  What steps she is taking to improve telephone ...   \n",
       "2010-03  When he expects to respond to the David Davies...   \n",
       "2010-04  With the leave of the House, Mr. Speaker, I sh...   \n",
       "2010-05  I beg to move, That John Bercow do take the Ch...   \n",
       "\n",
       "                                                  dateonly  \n",
       "month                                                       \n",
       "2010-01  2010-01-05 2010-01-05 2010-01-05 2010-01-05 20...  \n",
       "2010-02  2010-02-01 2010-02-01 2010-02-01 2010-02-01 20...  \n",
       "2010-03  2010-03-01 2010-03-01 2010-03-01 2010-03-01 20...  \n",
       "2010-04  2010-04-06 2010-04-06 2010-04-06 2010-04-06 20...  \n",
       "2010-05  2010-05-18 2010-05-18 2010-05-18 2010-05-18 20...  "
      ]
     },
     "execution_count": 85,
     "metadata": {},
     "output_type": "execute_result"
    }
   ],
   "source": [
    "bymonth.head()"
   ]
  },
  {
   "cell_type": "code",
   "execution_count": 91,
   "metadata": {
    "collapsed": true
   },
   "outputs": [],
   "source": [
    "vec = CountVectorizer(ngram_range=(3,3), stop_words='english', tokenizer=tokenizer)\n",
    "vec = vec.fit(bymonth.text)"
   ]
  },
  {
   "cell_type": "code",
   "execution_count": 88,
   "metadata": {
    "collapsed": false
   },
   "outputs": [],
   "source": [
    "def top_n_words(text, vec, n=5, whitelist=None):\n",
    "    trans = vec.transform([text])\n",
    "    sortidx = np.argsort(trans.toarray()[0])\n",
    "    \n",
    "    sorted_counts = trans.toarray()[0][sortidx]\n",
    "    sorted_tokens = np.array(vec.get_feature_names())[sortidx]\n",
    "    \n",
    "    df = pd.DataFrame(data={\n",
    "        'token': sorted_tokens,\n",
    "        'count': sorted_counts\n",
    "    })\n",
    "    if whitelist is not None:\n",
    "        df['interesting'] = df.token.apply(lambda x: any([wl in x for wl in whitelist]))\n",
    "    else:\n",
    "        df['interesting'] = 1\n",
    "    return df[df.interesting & (df['count'] > 0)].sort_values('count', ascending=False)"
   ]
  },
  {
   "cell_type": "code",
   "execution_count": 93,
   "metadata": {
    "collapsed": true
   },
   "outputs": [],
   "source": [
    "whitelist = [str(x) for x in range(10)]"
   ]
  },
  {
   "cell_type": "code",
   "execution_count": null,
   "metadata": {
    "collapsed": false
   },
   "outputs": [],
   "source": [
    "top_n_words(bymonth['text'][0], vec, whitelist=whitelist)"
   ]
  },
  {
   "cell_type": "markdown",
   "metadata": {},
   "source": [
    "# --------------"
   ]
  },
  {
   "cell_type": "code",
   "execution_count": 2,
   "metadata": {
    "collapsed": true
   },
   "outputs": [],
   "source": [
    "with open('./1day.txt', 'r') as f:\n",
    "    txt = f.read()"
   ]
  },
  {
   "cell_type": "code",
   "execution_count": 5,
   "metadata": {
    "collapsed": true
   },
   "outputs": [],
   "source": [
    "def tokenizer(s):\n",
    "    return [xx.strip('()[];-\\'`.,') for xx in s.split(' ') if xx.strip() != '']"
   ]
  },
  {
   "cell_type": "code",
   "execution_count": 6,
   "metadata": {
    "collapsed": true
   },
   "outputs": [],
   "source": [
    "import pandas as pd"
   ]
  },
  {
   "cell_type": "code",
   "execution_count": 57,
   "metadata": {
    "collapsed": false
   },
   "outputs": [],
   "source": [
    "vec = CountVectorizer(ngram_range=(3,5), stop_words='english', tokenizer=tokenizer)\n",
    "vec = vec.fit([txt])\n"
   ]
  },
  {
   "cell_type": "markdown",
   "metadata": {},
   "source": [
    "# Full CSV"
   ]
  },
  {
   "cell_type": "code",
   "execution_count": 9,
   "metadata": {
    "collapsed": false
   },
   "outputs": [],
   "source": [
    "df = pd.read_csv('./speeches.csv')\n",
    "df.dropna(inplace=True)"
   ]
  },
  {
   "cell_type": "code",
   "execution_count": 73,
   "metadata": {
    "collapsed": false
   },
   "outputs": [
    {
     "data": {
      "text/plain": [
       "1088983"
      ]
     },
     "execution_count": 73,
     "metadata": {},
     "output_type": "execute_result"
    }
   ],
   "source": [
    "len(df)"
   ]
  },
  {
   "cell_type": "code",
   "execution_count": 21,
   "metadata": {
    "collapsed": true
   },
   "outputs": [],
   "source": [
    "df['dateonly'] = df.date.apply(lambda x: x.lstrip('debates').rstrip('ab.xml'))\n",
    "df['month'] = df['dateonly'].str.in"
   ]
  },
  {
   "cell_type": "code",
   "execution_count": 23,
   "metadata": {
    "collapsed": true
   },
   "outputs": [],
   "source": [
    "daytext = df.groupby('dateonly').agg(lambda x: ' '.join(x))"
   ]
  },
  {
   "cell_type": "code",
   "execution_count": 26,
   "metadata": {
    "collapsed": false
   },
   "outputs": [
    {
     "data": {
      "text/html": [
       "<div>\n",
       "<table border=\"1\" class=\"dataframe\">\n",
       "  <thead>\n",
       "    <tr style=\"text-align: right;\">\n",
       "      <th></th>\n",
       "      <th>date</th>\n",
       "      <th>speaker</th>\n",
       "      <th>text</th>\n",
       "    </tr>\n",
       "    <tr>\n",
       "      <th>dateonly</th>\n",
       "      <th></th>\n",
       "      <th></th>\n",
       "      <th></th>\n",
       "    </tr>\n",
       "  </thead>\n",
       "  <tbody>\n",
       "    <tr>\n",
       "      <th>2010-01-05</th>\n",
       "      <td>debates2010-01-05a.xml debates2010-01-05a.xml ...</td>\n",
       "      <td>Philip Hollobone Philip Hollobone Jack Straw J...</td>\n",
       "      <td>May I suggest to the Secretary of State that p...</td>\n",
       "    </tr>\n",
       "    <tr>\n",
       "      <th>2010-01-06</th>\n",
       "      <td>debates2010-01-06a.xml debates2010-01-06a.xml ...</td>\n",
       "      <td>Hon. Members Hon. Members Albert Owen Albert O...</td>\n",
       "      <td>Object.  Second Reading deferred until  A happ...</td>\n",
       "    </tr>\n",
       "    <tr>\n",
       "      <th>2010-01-07</th>\n",
       "      <td>debates2010-01-07a.xml debates2010-01-07a.xml ...</td>\n",
       "      <td>Frank Dobson Frank Dobson Frank Dobson Frank D...</td>\n",
       "      <td>I think that we needed that explanation, and I...</td>\n",
       "    </tr>\n",
       "    <tr>\n",
       "      <th>2010-01-07c</th>\n",
       "      <td>debates2010-01-07c.xml debates2010-01-07c.xml ...</td>\n",
       "      <td>Edward Miliband Edward Miliband David Drew Edw...</td>\n",
       "      <td>Obviously, we will look at any proposals that ...</td>\n",
       "    </tr>\n",
       "    <tr>\n",
       "      <th>2010-01-07d</th>\n",
       "      <td>debates2010-01-07d.xml debates2010-01-07d.xml ...</td>\n",
       "      <td>Hon. Members Hon. Members Hon. Members Hon. Me...</td>\n",
       "      <td>Object.  Bill to be read the Third time on  Ob...</td>\n",
       "    </tr>\n",
       "  </tbody>\n",
       "</table>\n",
       "</div>"
      ],
      "text/plain": [
       "                                                          date  \\\n",
       "dateonly                                                         \n",
       "2010-01-05   debates2010-01-05a.xml debates2010-01-05a.xml ...   \n",
       "2010-01-06   debates2010-01-06a.xml debates2010-01-06a.xml ...   \n",
       "2010-01-07   debates2010-01-07a.xml debates2010-01-07a.xml ...   \n",
       "2010-01-07c  debates2010-01-07c.xml debates2010-01-07c.xml ...   \n",
       "2010-01-07d  debates2010-01-07d.xml debates2010-01-07d.xml ...   \n",
       "\n",
       "                                                       speaker  \\\n",
       "dateonly                                                         \n",
       "2010-01-05   Philip Hollobone Philip Hollobone Jack Straw J...   \n",
       "2010-01-06   Hon. Members Hon. Members Albert Owen Albert O...   \n",
       "2010-01-07   Frank Dobson Frank Dobson Frank Dobson Frank D...   \n",
       "2010-01-07c  Edward Miliband Edward Miliband David Drew Edw...   \n",
       "2010-01-07d  Hon. Members Hon. Members Hon. Members Hon. Me...   \n",
       "\n",
       "                                                          text  \n",
       "dateonly                                                        \n",
       "2010-01-05   May I suggest to the Secretary of State that p...  \n",
       "2010-01-06   Object.  Second Reading deferred until  A happ...  \n",
       "2010-01-07   I think that we needed that explanation, and I...  \n",
       "2010-01-07c  Obviously, we will look at any proposals that ...  \n",
       "2010-01-07d  Object.  Bill to be read the Third time on  Ob...  "
      ]
     },
     "execution_count": 26,
     "metadata": {},
     "output_type": "execute_result"
    }
   ],
   "source": [
    "daytext.head()"
   ]
  },
  {
   "cell_type": "code",
   "execution_count": 11,
   "metadata": {
    "collapsed": false
   },
   "outputs": [
    {
     "data": {
      "text/html": [
       "<div>\n",
       "<table border=\"1\" class=\"dataframe\">\n",
       "  <thead>\n",
       "    <tr style=\"text-align: right;\">\n",
       "      <th></th>\n",
       "      <th>date</th>\n",
       "      <th>speaker</th>\n",
       "      <th>text</th>\n",
       "    </tr>\n",
       "  </thead>\n",
       "  <tbody>\n",
       "    <tr>\n",
       "      <th>0</th>\n",
       "      <td>debates2010-01-05a.xml</td>\n",
       "      <td>Philip Hollobone</td>\n",
       "      <td>May I suggest to the Secretary of State that p...</td>\n",
       "    </tr>\n",
       "    <tr>\n",
       "      <th>1</th>\n",
       "      <td>debates2010-01-05a.xml</td>\n",
       "      <td>Philip Hollobone</td>\n",
       "      <td>\"If you commit a crime you will be deported fr...</td>\n",
       "    </tr>\n",
       "    <tr>\n",
       "      <th>2</th>\n",
       "      <td>debates2010-01-05a.xml</td>\n",
       "      <td>Jack Straw</td>\n",
       "      <td>I am happy to seek to provide the hon. Gentlem...</td>\n",
       "    </tr>\n",
       "    <tr>\n",
       "      <th>3</th>\n",
       "      <td>debates2010-01-05a.xml</td>\n",
       "      <td>Jack Straw</td>\n",
       "      <td>What we want to see is prison made effective. ...</td>\n",
       "    </tr>\n",
       "    <tr>\n",
       "      <th>4</th>\n",
       "      <td>debates2010-01-05a.xml</td>\n",
       "      <td>David Miliband</td>\n",
       "      <td>We should certainly have a foreign policy that...</td>\n",
       "    </tr>\n",
       "  </tbody>\n",
       "</table>\n",
       "</div>"
      ],
      "text/plain": [
       "                     date           speaker  \\\n",
       "0  debates2010-01-05a.xml  Philip Hollobone   \n",
       "1  debates2010-01-05a.xml  Philip Hollobone   \n",
       "2  debates2010-01-05a.xml        Jack Straw   \n",
       "3  debates2010-01-05a.xml        Jack Straw   \n",
       "4  debates2010-01-05a.xml    David Miliband   \n",
       "\n",
       "                                                text  \n",
       "0  May I suggest to the Secretary of State that p...  \n",
       "1  \"If you commit a crime you will be deported fr...  \n",
       "2  I am happy to seek to provide the hon. Gentlem...  \n",
       "3  What we want to see is prison made effective. ...  \n",
       "4  We should certainly have a foreign policy that...  "
      ]
     },
     "execution_count": 11,
     "metadata": {},
     "output_type": "execute_result"
    }
   ],
   "source": [
    "df.head()"
   ]
  },
  {
   "cell_type": "code",
   "execution_count": 17,
   "metadata": {
    "collapsed": false
   },
   "outputs": [],
   "source": [
    "vec = TfidfVectorizer(ngram_range=(3,3), stop_words='english', tokenizer=tokenizer)\n",
    "vec = vec.fit(df.text[::10])"
   ]
  },
  {
   "cell_type": "code",
   "execution_count": 43,
   "metadata": {
    "collapsed": true
   },
   "outputs": [],
   "source": [
    "important_words = [str(x) for x in range(10)] + ['increas', '%', 'decreas']"
   ]
  },
  {
   "cell_type": "code",
   "execution_count": 67,
   "metadata": {
    "collapsed": false
   },
   "outputs": [
    {
     "data": {
      "text/html": [
       "<div>\n",
       "<table border=\"1\" class=\"dataframe\">\n",
       "  <thead>\n",
       "    <tr style=\"text-align: right;\">\n",
       "      <th></th>\n",
       "      <th>count</th>\n",
       "      <th>token</th>\n",
       "      <th>interesting</th>\n",
       "    </tr>\n",
       "  </thead>\n",
       "  <tbody>\n",
       "    <tr>\n",
       "      <th>45656</th>\n",
       "      <td>51</td>\n",
       "      <td>right hon friend</td>\n",
       "      <td>True</td>\n",
       "    </tr>\n",
       "    <tr>\n",
       "      <th>45655</th>\n",
       "      <td>35</td>\n",
       "      <td>right hon gentleman</td>\n",
       "      <td>True</td>\n",
       "    </tr>\n",
       "    <tr>\n",
       "      <th>45654</th>\n",
       "      <td>8</td>\n",
       "      <td>hon friend secretary state</td>\n",
       "      <td>True</td>\n",
       "    </tr>\n",
       "    <tr>\n",
       "      <th>45653</th>\n",
       "      <td>8</td>\n",
       "      <td>right hon friend secretary</td>\n",
       "      <td>True</td>\n",
       "    </tr>\n",
       "    <tr>\n",
       "      <th>45652</th>\n",
       "      <td>8</td>\n",
       "      <td>friend secretary state</td>\n",
       "      <td>True</td>\n",
       "    </tr>\n",
       "    <tr>\n",
       "      <th>45651</th>\n",
       "      <td>8</td>\n",
       "      <td>hon friend secretary</td>\n",
       "      <td>True</td>\n",
       "    </tr>\n",
       "    <tr>\n",
       "      <th>45650</th>\n",
       "      <td>8</td>\n",
       "      <td>right hon friend secretary state</td>\n",
       "      <td>True</td>\n",
       "    </tr>\n",
       "    <tr>\n",
       "      <th>45648</th>\n",
       "      <td>7</td>\n",
       "      <td>previous labour government</td>\n",
       "      <td>True</td>\n",
       "    </tr>\n",
       "    <tr>\n",
       "      <th>45649</th>\n",
       "      <td>7</td>\n",
       "      <td>right hon hon</td>\n",
       "      <td>True</td>\n",
       "    </tr>\n",
       "    <tr>\n",
       "      <th>45647</th>\n",
       "      <td>5</td>\n",
       "      <td>hon friend agree</td>\n",
       "      <td>True</td>\n",
       "    </tr>\n",
       "    <tr>\n",
       "      <th>45646</th>\n",
       "      <td>5</td>\n",
       "      <td>hon gentleman asked</td>\n",
       "      <td>True</td>\n",
       "    </tr>\n",
       "    <tr>\n",
       "      <th>45645</th>\n",
       "      <td>5</td>\n",
       "      <td>hon friend right</td>\n",
       "      <td>True</td>\n",
       "    </tr>\n",
       "    <tr>\n",
       "      <th>45644</th>\n",
       "      <td>5</td>\n",
       "      <td>point order mr</td>\n",
       "      <td>True</td>\n",
       "    </tr>\n",
       "    <tr>\n",
       "      <th>45643</th>\n",
       "      <td>5</td>\n",
       "      <td>point order mr speaker</td>\n",
       "      <td>True</td>\n",
       "    </tr>\n",
       "    <tr>\n",
       "      <th>45642</th>\n",
       "      <td>5</td>\n",
       "      <td>order mr speaker</td>\n",
       "      <td>True</td>\n",
       "    </tr>\n",
       "    <tr>\n",
       "      <th>45640</th>\n",
       "      <td>4</td>\n",
       "      <td>hon hon members</td>\n",
       "      <td>True</td>\n",
       "    </tr>\n",
       "    <tr>\n",
       "      <th>45639</th>\n",
       "      <td>4</td>\n",
       "      <td>right hon hon members</td>\n",
       "      <td>True</td>\n",
       "    </tr>\n",
       "    <tr>\n",
       "      <th>45638</th>\n",
       "      <td>4</td>\n",
       "      <td>member cannock chase</td>\n",
       "      <td>True</td>\n",
       "    </tr>\n",
       "    <tr>\n",
       "      <th>45641</th>\n",
       "      <td>4</td>\n",
       "      <td>right hon member</td>\n",
       "      <td>True</td>\n",
       "    </tr>\n",
       "    <tr>\n",
       "      <th>45632</th>\n",
       "      <td>3</td>\n",
       "      <td>hon friend knows</td>\n",
       "      <td>True</td>\n",
       "    </tr>\n",
       "    <tr>\n",
       "      <th>45626</th>\n",
       "      <td>3</td>\n",
       "      <td>hon friend member</td>\n",
       "      <td>True</td>\n",
       "    </tr>\n",
       "    <tr>\n",
       "      <th>45627</th>\n",
       "      <td>3</td>\n",
       "      <td>thank right hon</td>\n",
       "      <td>True</td>\n",
       "    </tr>\n",
       "    <tr>\n",
       "      <th>45628</th>\n",
       "      <td>3</td>\n",
       "      <td>does right hon</td>\n",
       "      <td>True</td>\n",
       "    </tr>\n",
       "    <tr>\n",
       "      <th>45630</th>\n",
       "      <td>3</td>\n",
       "      <td>grateful hon gentleman</td>\n",
       "      <td>True</td>\n",
       "    </tr>\n",
       "    <tr>\n",
       "      <th>45631</th>\n",
       "      <td>3</td>\n",
       "      <td>national audit office</td>\n",
       "      <td>True</td>\n",
       "    </tr>\n",
       "    <tr>\n",
       "      <th>45629</th>\n",
       "      <td>3</td>\n",
       "      <td>hon gentleman right</td>\n",
       "      <td>True</td>\n",
       "    </tr>\n",
       "    <tr>\n",
       "      <th>45633</th>\n",
       "      <td>3</td>\n",
       "      <td>hon member cannock chase</td>\n",
       "      <td>True</td>\n",
       "    </tr>\n",
       "    <tr>\n",
       "      <th>45634</th>\n",
       "      <td>3</td>\n",
       "      <td>right hon gentleman asked</td>\n",
       "      <td>True</td>\n",
       "    </tr>\n",
       "    <tr>\n",
       "      <th>45635</th>\n",
       "      <td>3</td>\n",
       "      <td>hon friend absolutely</td>\n",
       "      <td>True</td>\n",
       "    </tr>\n",
       "    <tr>\n",
       "      <th>45636</th>\n",
       "      <td>3</td>\n",
       "      <td>culture media sport</td>\n",
       "      <td>True</td>\n",
       "    </tr>\n",
       "    <tr>\n",
       "      <th>...</th>\n",
       "      <td>...</td>\n",
       "      <td>...</td>\n",
       "      <td>...</td>\n",
       "    </tr>\n",
       "    <tr>\n",
       "      <th>45577</th>\n",
       "      <td>1</td>\n",
       "      <td>remind right hon friend</td>\n",
       "      <td>True</td>\n",
       "    </tr>\n",
       "    <tr>\n",
       "      <th>45590</th>\n",
       "      <td>1</td>\n",
       "      <td>does good job</td>\n",
       "      <td>True</td>\n",
       "    </tr>\n",
       "    <tr>\n",
       "      <th>45589</th>\n",
       "      <td>1</td>\n",
       "      <td>grateful right hon friend</td>\n",
       "      <td>True</td>\n",
       "    </tr>\n",
       "    <tr>\n",
       "      <th>45588</th>\n",
       "      <td>1</td>\n",
       "      <td>want make detailed</td>\n",
       "      <td>True</td>\n",
       "    </tr>\n",
       "    <tr>\n",
       "      <th>45587</th>\n",
       "      <td>1</td>\n",
       "      <td>years ago continues</td>\n",
       "      <td>True</td>\n",
       "    </tr>\n",
       "    <tr>\n",
       "      <th>45586</th>\n",
       "      <td>1</td>\n",
       "      <td>grateful hon gentleman point order</td>\n",
       "      <td>True</td>\n",
       "    </tr>\n",
       "    <tr>\n",
       "      <th>45585</th>\n",
       "      <td>1</td>\n",
       "      <td>grateful hon gentleman point</td>\n",
       "      <td>True</td>\n",
       "    </tr>\n",
       "    <tr>\n",
       "      <th>45584</th>\n",
       "      <td>1</td>\n",
       "      <td>jobcentre plus offices</td>\n",
       "      <td>True</td>\n",
       "    </tr>\n",
       "    <tr>\n",
       "      <th>45583</th>\n",
       "      <td>1</td>\n",
       "      <td>hon gentleman referred</td>\n",
       "      <td>True</td>\n",
       "    </tr>\n",
       "    <tr>\n",
       "      <th>45582</th>\n",
       "      <td>1</td>\n",
       "      <td>consultation local people</td>\n",
       "      <td>True</td>\n",
       "    </tr>\n",
       "    <tr>\n",
       "      <th>45581</th>\n",
       "      <td>1</td>\n",
       "      <td>does right hon friend agree</td>\n",
       "      <td>True</td>\n",
       "    </tr>\n",
       "    <tr>\n",
       "      <th>45580</th>\n",
       "      <td>1</td>\n",
       "      <td>certainly agree hon</td>\n",
       "      <td>True</td>\n",
       "    </tr>\n",
       "    <tr>\n",
       "      <th>45579</th>\n",
       "      <td>1</td>\n",
       "      <td>certainly agree hon friend</td>\n",
       "      <td>True</td>\n",
       "    </tr>\n",
       "    <tr>\n",
       "      <th>45578</th>\n",
       "      <td>1</td>\n",
       "      <td>does right hon friend share</td>\n",
       "      <td>True</td>\n",
       "    </tr>\n",
       "    <tr>\n",
       "      <th>45576</th>\n",
       "      <td>1</td>\n",
       "      <td>remind right hon</td>\n",
       "      <td>True</td>\n",
       "    </tr>\n",
       "    <tr>\n",
       "      <th>45562</th>\n",
       "      <td>1</td>\n",
       "      <td>do? hon gentleman</td>\n",
       "      <td>True</td>\n",
       "    </tr>\n",
       "    <tr>\n",
       "      <th>45575</th>\n",
       "      <td>1</td>\n",
       "      <td>hon gentleman makes</td>\n",
       "      <td>True</td>\n",
       "    </tr>\n",
       "    <tr>\n",
       "      <th>45574</th>\n",
       "      <td>1</td>\n",
       "      <td>hear hon friend</td>\n",
       "      <td>True</td>\n",
       "    </tr>\n",
       "    <tr>\n",
       "      <th>45573</th>\n",
       "      <td>1</td>\n",
       "      <td>chairman select committee</td>\n",
       "      <td>True</td>\n",
       "    </tr>\n",
       "    <tr>\n",
       "      <th>45572</th>\n",
       "      <td>1</td>\n",
       "      <td>grateful right hon gentleman</td>\n",
       "      <td>True</td>\n",
       "    </tr>\n",
       "    <tr>\n",
       "      <th>45571</th>\n",
       "      <td>1</td>\n",
       "      <td>hon friend support</td>\n",
       "      <td>True</td>\n",
       "    </tr>\n",
       "    <tr>\n",
       "      <th>45570</th>\n",
       "      <td>1</td>\n",
       "      <td>answer hon gentleman</td>\n",
       "      <td>True</td>\n",
       "    </tr>\n",
       "    <tr>\n",
       "      <th>45569</th>\n",
       "      <td>1</td>\n",
       "      <td>make absolutely clear</td>\n",
       "      <td>True</td>\n",
       "    </tr>\n",
       "    <tr>\n",
       "      <th>45568</th>\n",
       "      <td>1</td>\n",
       "      <td>say hon friend</td>\n",
       "      <td>True</td>\n",
       "    </tr>\n",
       "    <tr>\n",
       "      <th>45567</th>\n",
       "      <td>1</td>\n",
       "      <td>hon friend question</td>\n",
       "      <td>True</td>\n",
       "    </tr>\n",
       "    <tr>\n",
       "      <th>45566</th>\n",
       "      <td>1</td>\n",
       "      <td>make statement government</td>\n",
       "      <td>True</td>\n",
       "    </tr>\n",
       "    <tr>\n",
       "      <th>45565</th>\n",
       "      <td>1</td>\n",
       "      <td>statement right hon friend</td>\n",
       "      <td>True</td>\n",
       "    </tr>\n",
       "    <tr>\n",
       "      <th>45564</th>\n",
       "      <td>1</td>\n",
       "      <td>delighted right hon</td>\n",
       "      <td>True</td>\n",
       "    </tr>\n",
       "    <tr>\n",
       "      <th>45563</th>\n",
       "      <td>1</td>\n",
       "      <td>hon friend remember</td>\n",
       "      <td>True</td>\n",
       "    </tr>\n",
       "    <tr>\n",
       "      <th>45592</th>\n",
       "      <td>1</td>\n",
       "      <td>shadow secretary state</td>\n",
       "      <td>True</td>\n",
       "    </tr>\n",
       "  </tbody>\n",
       "</table>\n",
       "<p>129 rows × 3 columns</p>\n",
       "</div>"
      ],
      "text/plain": [
       "       count                               token interesting\n",
       "45656     51                    right hon friend        True\n",
       "45655     35                 right hon gentleman        True\n",
       "45654      8          hon friend secretary state        True\n",
       "45653      8          right hon friend secretary        True\n",
       "45652      8              friend secretary state        True\n",
       "45651      8                hon friend secretary        True\n",
       "45650      8    right hon friend secretary state        True\n",
       "45648      7          previous labour government        True\n",
       "45649      7                       right hon hon        True\n",
       "45647      5                    hon friend agree        True\n",
       "45646      5                 hon gentleman asked        True\n",
       "45645      5                    hon friend right        True\n",
       "45644      5                      point order mr        True\n",
       "45643      5              point order mr speaker        True\n",
       "45642      5                    order mr speaker        True\n",
       "45640      4                     hon hon members        True\n",
       "45639      4               right hon hon members        True\n",
       "45638      4                member cannock chase        True\n",
       "45641      4                    right hon member        True\n",
       "45632      3                    hon friend knows        True\n",
       "45626      3                   hon friend member        True\n",
       "45627      3                     thank right hon        True\n",
       "45628      3                      does right hon        True\n",
       "45630      3              grateful hon gentleman        True\n",
       "45631      3               national audit office        True\n",
       "45629      3                 hon gentleman right        True\n",
       "45633      3            hon member cannock chase        True\n",
       "45634      3           right hon gentleman asked        True\n",
       "45635      3               hon friend absolutely        True\n",
       "45636      3                 culture media sport        True\n",
       "...      ...                                 ...         ...\n",
       "45577      1             remind right hon friend        True\n",
       "45590      1                       does good job        True\n",
       "45589      1           grateful right hon friend        True\n",
       "45588      1                  want make detailed        True\n",
       "45587      1                 years ago continues        True\n",
       "45586      1  grateful hon gentleman point order        True\n",
       "45585      1        grateful hon gentleman point        True\n",
       "45584      1              jobcentre plus offices        True\n",
       "45583      1              hon gentleman referred        True\n",
       "45582      1           consultation local people        True\n",
       "45581      1         does right hon friend agree        True\n",
       "45580      1                 certainly agree hon        True\n",
       "45579      1          certainly agree hon friend        True\n",
       "45578      1         does right hon friend share        True\n",
       "45576      1                    remind right hon        True\n",
       "45562      1                   do? hon gentleman        True\n",
       "45575      1                 hon gentleman makes        True\n",
       "45574      1                     hear hon friend        True\n",
       "45573      1           chairman select committee        True\n",
       "45572      1        grateful right hon gentleman        True\n",
       "45571      1                  hon friend support        True\n",
       "45570      1                answer hon gentleman        True\n",
       "45569      1               make absolutely clear        True\n",
       "45568      1                      say hon friend        True\n",
       "45567      1                 hon friend question        True\n",
       "45566      1           make statement government        True\n",
       "45565      1          statement right hon friend        True\n",
       "45564      1                 delighted right hon        True\n",
       "45563      1                 hon friend remember        True\n",
       "45592      1              shadow secretary state        True\n",
       "\n",
       "[129 rows x 3 columns]"
      ]
     },
     "execution_count": 67,
     "metadata": {},
     "output_type": "execute_result"
    }
   ],
   "source": [
    "top_n_words(daytext['text'][134], ['a', 'e', 'i', 'o', 'u'], vec)"
   ]
  },
  {
   "cell_type": "code",
   "execution_count": null,
   "metadata": {
    "collapsed": true
   },
   "outputs": [],
   "source": []
  }
 ],
 "metadata": {
  "kernelspec": {
   "display_name": "Python 3",
   "language": "python",
   "name": "python3"
  },
  "language_info": {
   "codemirror_mode": {
    "name": "ipython",
    "version": 3
   },
   "file_extension": ".py",
   "mimetype": "text/x-python",
   "name": "python",
   "nbconvert_exporter": "python",
   "pygments_lexer": "ipython3",
   "version": "3.6.0"
  }
 },
 "nbformat": 4,
 "nbformat_minor": 2
}
