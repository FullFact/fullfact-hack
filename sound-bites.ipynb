{
 "cells": [
  {
   "cell_type": "markdown",
   "metadata": {},
   "source": [
    "# Sound bites\n",
    "\n",
    "Can we detect sound bites that are evolving?\n",
    "\n",
    "The NLP will be harder than the time series analysis (i.e. what exactly is a sound bite and how would we represent it). We use some open source data and tools to make a start."
   ]
  },
  {
   "cell_type": "code",
   "execution_count": 1,
   "metadata": {
    "collapsed": true
   },
   "outputs": [],
   "source": [
    "import numpy as np\n",
    "import pandas as pd"
   ]
  },
  {
   "cell_type": "markdown",
   "metadata": {},
   "source": [
    "A CSV containing every comment from every politician in the Hansard archive as a .csv\n",
    "\n",
    "1 million statements and counting..."
   ]
  },
  {
   "cell_type": "code",
   "execution_count": 2,
   "metadata": {
    "collapsed": false
   },
   "outputs": [
    {
     "name": "stdout",
     "output_type": "stream",
     "text": [
      "1088983\n"
     ]
    }
   ],
   "source": [
    "df = pd.read_csv('./speeches.csv')\n",
    "df.dropna(inplace=True)\n",
    "print(len(df))"
   ]
  },
  {
   "cell_type": "markdown",
   "metadata": {},
   "source": [
    "Speaker name, transcript and the original .xml file from the archives"
   ]
  },
  {
   "cell_type": "code",
   "execution_count": 3,
   "metadata": {
    "collapsed": false
   },
   "outputs": [
    {
     "data": {
      "text/html": [
       "<div>\n",
       "<table border=\"1\" class=\"dataframe\">\n",
       "  <thead>\n",
       "    <tr style=\"text-align: right;\">\n",
       "      <th></th>\n",
       "      <th>date</th>\n",
       "      <th>speaker</th>\n",
       "      <th>text</th>\n",
       "    </tr>\n",
       "  </thead>\n",
       "  <tbody>\n",
       "    <tr>\n",
       "      <th>0</th>\n",
       "      <td>debates2010-01-05a.xml</td>\n",
       "      <td>Philip Hollobone</td>\n",
       "      <td>May I suggest to the Secretary of State that p...</td>\n",
       "    </tr>\n",
       "    <tr>\n",
       "      <th>1</th>\n",
       "      <td>debates2010-01-05a.xml</td>\n",
       "      <td>Philip Hollobone</td>\n",
       "      <td>\"If you commit a crime you will be deported fr...</td>\n",
       "    </tr>\n",
       "    <tr>\n",
       "      <th>2</th>\n",
       "      <td>debates2010-01-05a.xml</td>\n",
       "      <td>Jack Straw</td>\n",
       "      <td>I am happy to seek to provide the hon. Gentlem...</td>\n",
       "    </tr>\n",
       "    <tr>\n",
       "      <th>3</th>\n",
       "      <td>debates2010-01-05a.xml</td>\n",
       "      <td>Jack Straw</td>\n",
       "      <td>What we want to see is prison made effective. ...</td>\n",
       "    </tr>\n",
       "    <tr>\n",
       "      <th>4</th>\n",
       "      <td>debates2010-01-05a.xml</td>\n",
       "      <td>David Miliband</td>\n",
       "      <td>We should certainly have a foreign policy that...</td>\n",
       "    </tr>\n",
       "  </tbody>\n",
       "</table>\n",
       "</div>"
      ],
      "text/plain": [
       "                     date           speaker  \\\n",
       "0  debates2010-01-05a.xml  Philip Hollobone   \n",
       "1  debates2010-01-05a.xml  Philip Hollobone   \n",
       "2  debates2010-01-05a.xml        Jack Straw   \n",
       "3  debates2010-01-05a.xml        Jack Straw   \n",
       "4  debates2010-01-05a.xml    David Miliband   \n",
       "\n",
       "                                                text  \n",
       "0  May I suggest to the Secretary of State that p...  \n",
       "1  \"If you commit a crime you will be deported fr...  \n",
       "2  I am happy to seek to provide the hon. Gentlem...  \n",
       "3  What we want to see is prison made effective. ...  \n",
       "4  We should certainly have a foreign policy that...  "
      ]
     },
     "execution_count": 3,
     "metadata": {},
     "output_type": "execute_result"
    }
   ],
   "source": [
    "df.head()"
   ]
  },
  {
   "cell_type": "code",
   "execution_count": 4,
   "metadata": {
    "collapsed": true
   },
   "outputs": [],
   "source": [
    "# Ease computational requirements\n",
    "df = df.loc[500000:]"
   ]
  },
  {
   "cell_type": "markdown",
   "metadata": {},
   "source": [
    "Compute the day and month from the filename (we can use this for grouping transcripts)"
   ]
  },
  {
   "cell_type": "code",
   "execution_count": 6,
   "metadata": {
    "collapsed": false
   },
   "outputs": [
    {
     "data": {
      "text/html": [
       "<div>\n",
       "<table border=\"1\" class=\"dataframe\">\n",
       "  <thead>\n",
       "    <tr style=\"text-align: right;\">\n",
       "      <th></th>\n",
       "      <th>date</th>\n",
       "      <th>speaker</th>\n",
       "      <th>text</th>\n",
       "      <th>day</th>\n",
       "      <th>month</th>\n",
       "    </tr>\n",
       "  </thead>\n",
       "  <tbody>\n",
       "    <tr>\n",
       "      <th>500000</th>\n",
       "      <td>debates2013-03-12b.xml</td>\n",
       "      <td>David Gauke</td>\n",
       "      <td>‘notes that this Coalition Government has cut ...</td>\n",
       "      <td>2013-03-12</td>\n",
       "      <td>2013-03</td>\n",
       "    </tr>\n",
       "    <tr>\n",
       "      <th>500001</th>\n",
       "      <td>debates2013-03-12b.xml</td>\n",
       "      <td>David Gauke</td>\n",
       "      <td>After listening to the speech of</td>\n",
       "      <td>2013-03-12</td>\n",
       "      <td>2013-03</td>\n",
       "    </tr>\n",
       "    <tr>\n",
       "      <th>500002</th>\n",
       "      <td>debates2013-03-12b.xml</td>\n",
       "      <td>David Gauke</td>\n",
       "      <td>We might also have thought that the Labour Gov...</td>\n",
       "      <td>2013-03-12</td>\n",
       "      <td>2013-03</td>\n",
       "    </tr>\n",
       "    <tr>\n",
       "      <th>500003</th>\n",
       "      <td>debates2013-03-12b.xml</td>\n",
       "      <td>David Gauke</td>\n",
       "      <td>Whatever the differences that may exist on the...</td>\n",
       "      <td>2013-03-12</td>\n",
       "      <td>2013-03</td>\n",
       "    </tr>\n",
       "    <tr>\n",
       "      <th>500004</th>\n",
       "      <td>debates2013-03-12b.xml</td>\n",
       "      <td>Alex Cunningham</td>\n",
       "      <td>At Treasury questions, one of the Minister’s c...</td>\n",
       "      <td>2013-03-12</td>\n",
       "      <td>2013-03</td>\n",
       "    </tr>\n",
       "  </tbody>\n",
       "</table>\n",
       "</div>"
      ],
      "text/plain": [
       "                          date          speaker  \\\n",
       "500000  debates2013-03-12b.xml      David Gauke   \n",
       "500001  debates2013-03-12b.xml      David Gauke   \n",
       "500002  debates2013-03-12b.xml      David Gauke   \n",
       "500003  debates2013-03-12b.xml      David Gauke   \n",
       "500004  debates2013-03-12b.xml  Alex Cunningham   \n",
       "\n",
       "                                                     text         day    month  \n",
       "500000  ‘notes that this Coalition Government has cut ...  2013-03-12  2013-03  \n",
       "500001                  After listening to the speech of   2013-03-12  2013-03  \n",
       "500002  We might also have thought that the Labour Gov...  2013-03-12  2013-03  \n",
       "500003  Whatever the differences that may exist on the...  2013-03-12  2013-03  \n",
       "500004  At Treasury questions, one of the Minister’s c...  2013-03-12  2013-03  "
      ]
     },
     "execution_count": 6,
     "metadata": {},
     "output_type": "execute_result"
    }
   ],
   "source": [
    "df['day'] = df.date.apply(lambda x: x.lstrip('debates').rstrip('abcdefghijklmno.xml'))\n",
    "df['month'] = df['day'].apply(lambda x: x[:7])\n",
    "df.head()"
   ]
  },
  {
   "cell_type": "markdown",
   "metadata": {},
   "source": [
    "The transcript for each day"
   ]
  },
  {
   "cell_type": "code",
   "execution_count": 7,
   "metadata": {
    "collapsed": false
   },
   "outputs": [
    {
     "data": {
      "text/plain": [
       "day\n",
       "2013-03-12    ‘notes that this Coalition Government has cut ...\n",
       "2013-03-13    In 1997 there were no excess deaths in the mor...\n",
       "2013-03-14    What steps he is taking to help households imp...\n",
       "2013-03-18    I want to speak very briefly on the royal char...\n",
       "2013-03-19    What assessment he has made of the value of th...\n",
       "Name: text, dtype: object"
      ]
     },
     "execution_count": 7,
     "metadata": {},
     "output_type": "execute_result"
    }
   ],
   "source": [
    "daytext = df.groupby('day')['text'].agg(lambda x: ' '.join(x))\n",
    "daytext.head()"
   ]
  },
  {
   "cell_type": "markdown",
   "metadata": {},
   "source": [
    "## Tokenisation"
   ]
  },
  {
   "cell_type": "markdown",
   "metadata": {},
   "source": [
    "We write some tokenisers for words and sentences. Handling some cases particular to our problem. We want to preserve numbers (so don't split on commas!)."
   ]
  },
  {
   "cell_type": "code",
   "execution_count": 8,
   "metadata": {
    "collapsed": true
   },
   "outputs": [],
   "source": [
    "from sklearn.feature_extraction.text import CountVectorizer, TfidfVectorizer\n",
    "import re"
   ]
  },
  {
   "cell_type": "code",
   "execution_count": 9,
   "metadata": {
    "collapsed": true
   },
   "outputs": [],
   "source": [
    "def sent_split(s):\n",
    "    return re.split('(?<!hon)\\.(?=\\W)', s, re.IGNORECASE)"
   ]
  },
  {
   "cell_type": "code",
   "execution_count": 10,
   "metadata": {
    "collapsed": true
   },
   "outputs": [],
   "source": [
    "def tokenizer(s):\n",
    "    return [xx.strip('()[];-\\'`.,\"') for xx in s.split(' ') if xx.strip() != '']"
   ]
  },
  {
   "cell_type": "code",
   "execution_count": 11,
   "metadata": {
    "collapsed": true
   },
   "outputs": [],
   "source": [
    "def sentence_tokenizer(s):\n",
    "    return [xx.strip('').lower() for xx in sent_split(s) if xx.strip() != '']"
   ]
  },
  {
   "cell_type": "markdown",
   "metadata": {},
   "source": [
    "Some words that aren't helpful"
   ]
  },
  {
   "cell_type": "code",
   "execution_count": 35,
   "metadata": {
    "collapsed": true
   },
   "outputs": [],
   "source": [
    "from sklearn.feature_extraction import text\n",
    "stop_words = text.ENGLISH_STOP_WORDS.union([\n",
    "    'government', 'minister', 'hon', 'friend'\n",
    "])"
   ]
  },
  {
   "cell_type": "markdown",
   "metadata": {},
   "source": [
    "We'll use a TFIDF representation, which emphasises words that are used very often on a single day relative to their usage in the entire archive."
   ]
  },
  {
   "cell_type": "code",
   "execution_count": 36,
   "metadata": {
    "collapsed": false
   },
   "outputs": [],
   "source": [
    "# Warning - takes some time!\n",
    "vec = TfidfVectorizer(ngram_range=(1,2), stop_words=stop_words, tokenizer=tokenizer, min_df=2)\n",
    "vec = vec.fit(daytext)"
   ]
  },
  {
   "cell_type": "markdown",
   "metadata": {},
   "source": [
    "Function to print the most prominent words for a given sentence and vectorizer."
   ]
  },
  {
   "cell_type": "code",
   "execution_count": 37,
   "metadata": {
    "collapsed": false
   },
   "outputs": [],
   "source": [
    "def top_n_words(text, vec, n=10):\n",
    "    df = pd.DataFrame(data={\n",
    "        'token': vec.get_feature_names(),\n",
    "        'count': vec.transform([text]).toarray()[0],\n",
    "    })\n",
    "    return df[df['count']>0].sort_values('count', ascending=False)[:n]"
   ]
  },
  {
   "cell_type": "markdown",
   "metadata": {},
   "source": [
    "Find context around the word"
   ]
  },
  {
   "cell_type": "code",
   "execution_count": 38,
   "metadata": {
    "collapsed": true
   },
   "outputs": [],
   "source": [
    "def word_context(text, word):\n",
    "    idx = text.lower().index(word)\n",
    "    return text[idx-100:idx+100]"
   ]
  },
  {
   "cell_type": "markdown",
   "metadata": {},
   "source": [
    "## See it in action"
   ]
  },
  {
   "cell_type": "markdown",
   "metadata": {},
   "source": [
    "Let's look at the most recent date in our archive. "
   ]
  },
  {
   "cell_type": "code",
   "execution_count": 88,
   "metadata": {
    "collapsed": false
   },
   "outputs": [
    {
     "data": {
      "text/plain": [
       "'2017-04-27'"
      ]
     },
     "execution_count": 88,
     "metadata": {},
     "output_type": "execute_result"
    }
   ],
   "source": [
    "daytext.index[-1]"
   ]
  },
  {
   "cell_type": "markdown",
   "metadata": {},
   "source": [
    "Now we look at prominent words used that day. No surprises here!"
   ]
  },
  {
   "cell_type": "code",
   "execution_count": 100,
   "metadata": {
    "collapsed": false
   },
   "outputs": [
    {
     "data": {
      "text/html": [
       "<div>\n",
       "<table border=\"1\" class=\"dataframe\">\n",
       "  <thead>\n",
       "    <tr style=\"text-align: right;\">\n",
       "      <th></th>\n",
       "      <th>count</th>\n",
       "      <th>token</th>\n",
       "    </tr>\n",
       "  </thead>\n",
       "  <tbody>\n",
       "    <tr>\n",
       "      <th>50502</th>\n",
       "      <td>0.207737</td>\n",
       "      <td>act 2017</td>\n",
       "    </tr>\n",
       "    <tr>\n",
       "      <th>525234</th>\n",
       "      <td>0.125958</td>\n",
       "      <td>eu</td>\n",
       "    </tr>\n",
       "    <tr>\n",
       "      <th>528482</th>\n",
       "      <td>0.123721</td>\n",
       "      <td>european</td>\n",
       "    </tr>\n",
       "    <tr>\n",
       "      <th>1537020</th>\n",
       "      <td>0.119762</td>\n",
       "      <td>uk</td>\n",
       "    </tr>\n",
       "    <tr>\n",
       "      <th>190413</th>\n",
       "      <td>0.109696</td>\n",
       "      <td>brexit</td>\n",
       "    </tr>\n",
       "    <tr>\n",
       "      <th>610424</th>\n",
       "      <td>0.107632</td>\n",
       "      <td>friend</td>\n",
       "    </tr>\n",
       "    <tr>\n",
       "      <th>1514736</th>\n",
       "      <td>0.106157</td>\n",
       "      <td>trade</td>\n",
       "    </tr>\n",
       "    <tr>\n",
       "      <th>1514760</th>\n",
       "      <td>0.104083</td>\n",
       "      <td>trade agreement</td>\n",
       "    </tr>\n",
       "    <tr>\n",
       "      <th>585496</th>\n",
       "      <td>0.101178</td>\n",
       "      <td>financial services</td>\n",
       "    </tr>\n",
       "    <tr>\n",
       "      <th>398774</th>\n",
       "      <td>0.100129</td>\n",
       "      <td>deal</td>\n",
       "    </tr>\n",
       "  </tbody>\n",
       "</table>\n",
       "</div>"
      ],
      "text/plain": [
       "            count               token\n",
       "50502    0.207737            act 2017\n",
       "525234   0.125958                  eu\n",
       "528482   0.123721            european\n",
       "1537020  0.119762                  uk\n",
       "190413   0.109696              brexit\n",
       "610424   0.107632              friend\n",
       "1514736  0.106157               trade\n",
       "1514760  0.104083     trade agreement\n",
       "585496   0.101178  financial services\n",
       "398774   0.100129                deal"
      ]
     },
     "execution_count": 100,
     "metadata": {},
     "output_type": "execute_result"
    }
   ],
   "source": [
    "top_n_words(daytext[-1], vec)"
   ]
  },
  {
   "cell_type": "markdown",
   "metadata": {},
   "source": [
    "Let's dive deeper. Looks like trade agreements are a hot topic. "
   ]
  },
  {
   "cell_type": "code",
   "execution_count": 95,
   "metadata": {
    "collapsed": false
   },
   "outputs": [
    {
     "data": {
      "text/plain": [
       "'ean businesses do the same in the UK. Financial services is one area for which a bold and ambitious trade agreement will be sought, and we will continue to talk to the industry as we prepare for negot'"
      ]
     },
     "execution_count": 95,
     "metadata": {},
     "output_type": "execute_result"
    }
   ],
   "source": [
    "word_context(daytext[-1], 'trade agreement')"
   ]
  },
  {
   "cell_type": "markdown",
   "metadata": {},
   "source": [
    "# Use of sound bites over time\n",
    "\n",
    "But have they always been?"
   ]
  },
  {
   "cell_type": "code",
   "execution_count": 101,
   "metadata": {
    "collapsed": true
   },
   "outputs": [],
   "source": [
    "import matplotlib.pyplot as plt"
   ]
  },
  {
   "cell_type": "code",
   "execution_count": 104,
   "metadata": {
    "collapsed": false
   },
   "outputs": [
    {
     "data": {
      "image/png": "[encoded data removed]",
      "text/plain": [
       "<matplotlib.figure.Figure at 0x1450fe0f0>"
      ]
     },
     "metadata": {},
     "output_type": "display_data"
    }
   ],
   "source": [
    "daytext.str.lower().str.contains('trade agreement').rolling(100).mean().plot()\n",
    "plt.xticks(rotation=50);"
   ]
  },
  {
   "cell_type": "markdown",
   "metadata": {},
   "source": [
    "Mentions of a trade agreement have exploded :)"
   ]
  }
 ],
 "metadata": {
  "kernelspec": {
   "display_name": "Python 3",
   "language": "python",
   "name": "python3"
  },
  "language_info": {
   "codemirror_mode": {
    "name": "ipython",
    "version": 3
   },
   "file_extension": ".py",
   "mimetype": "text/x-python",
   "name": "python",
   "nbconvert_exporter": "python",
   "pygments_lexer": "ipython3",
   "version": "3.6.0"
  }
 },
 "nbformat": 4,
 "nbformat_minor": 2
}
